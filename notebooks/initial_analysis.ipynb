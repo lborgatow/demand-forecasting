{
 "cells": [
  {
   "cell_type": "markdown",
   "metadata": {},
   "source": [
    "# **Importação das Bibliotecas**"
   ]
  },
  {
   "cell_type": "code",
   "execution_count": 1,
   "metadata": {},
   "outputs": [],
   "source": [
    "import polars as pl\n",
    "from datetime import datetime"
   ]
  },
  {
   "cell_type": "markdown",
   "metadata": {},
   "source": [
    "# **Leitura dos Dados**"
   ]
  },
  {
   "cell_type": "code",
   "execution_count": 2,
   "metadata": {},
   "outputs": [
    {
     "data": {
      "text/html": [
       "<div><style>\n",
       ".dataframe > thead > tr,\n",
       ".dataframe > tbody > tr {\n",
       "  text-align: right;\n",
       "  white-space: pre-wrap;\n",
       "}\n",
       "</style>\n",
       "<small>shape: (5, 4)</small><table border=\"1\" class=\"dataframe\"><thead><tr><th>date</th><th>store</th><th>item</th><th>sales</th></tr><tr><td>str</td><td>i64</td><td>i64</td><td>i64</td></tr></thead><tbody><tr><td>&quot;2013-01-01&quot;</td><td>1</td><td>1</td><td>13</td></tr><tr><td>&quot;2013-01-02&quot;</td><td>1</td><td>1</td><td>11</td></tr><tr><td>&quot;2013-01-03&quot;</td><td>1</td><td>1</td><td>14</td></tr><tr><td>&quot;2013-01-04&quot;</td><td>1</td><td>1</td><td>13</td></tr><tr><td>&quot;2013-01-05&quot;</td><td>1</td><td>1</td><td>10</td></tr></tbody></table></div>"
      ],
      "text/plain": [
       "shape: (5, 4)\n",
       "┌────────────┬───────┬──────┬───────┐\n",
       "│ date       ┆ store ┆ item ┆ sales │\n",
       "│ ---        ┆ ---   ┆ ---  ┆ ---   │\n",
       "│ str        ┆ i64   ┆ i64  ┆ i64   │\n",
       "╞════════════╪═══════╪══════╪═══════╡\n",
       "│ 2013-01-01 ┆ 1     ┆ 1    ┆ 13    │\n",
       "│ 2013-01-02 ┆ 1     ┆ 1    ┆ 11    │\n",
       "│ 2013-01-03 ┆ 1     ┆ 1    ┆ 14    │\n",
       "│ 2013-01-04 ┆ 1     ┆ 1    ┆ 13    │\n",
       "│ 2013-01-05 ┆ 1     ┆ 1    ┆ 10    │\n",
       "└────────────┴───────┴──────┴───────┘"
      ]
     },
     "execution_count": 2,
     "metadata": {},
     "output_type": "execute_result"
    }
   ],
   "source": [
    "raw_data = pl.read_csv(\"../data/01_raw/store_item_demand.csv\")\n",
    "raw_data.head()"
   ]
  },
  {
   "cell_type": "markdown",
   "metadata": {},
   "source": [
    "# **Análise Inicial**"
   ]
  },
  {
   "cell_type": "code",
   "execution_count": 3,
   "metadata": {},
   "outputs": [
    {
     "data": {
      "text/html": [
       "<div><style>\n",
       ".dataframe > thead > tr,\n",
       ".dataframe > tbody > tr {\n",
       "  text-align: right;\n",
       "  white-space: pre-wrap;\n",
       "}\n",
       "</style>\n",
       "<small>shape: (9, 5)</small><table border=\"1\" class=\"dataframe\"><thead><tr><th>statistic</th><th>date</th><th>store</th><th>item</th><th>sales</th></tr><tr><td>str</td><td>str</td><td>f64</td><td>f64</td><td>f64</td></tr></thead><tbody><tr><td>&quot;count&quot;</td><td>&quot;913000&quot;</td><td>913000.0</td><td>913000.0</td><td>913000.0</td></tr><tr><td>&quot;null_count&quot;</td><td>&quot;0&quot;</td><td>0.0</td><td>0.0</td><td>0.0</td></tr><tr><td>&quot;mean&quot;</td><td>null</td><td>5.5</td><td>25.5</td><td>52.250287</td></tr><tr><td>&quot;std&quot;</td><td>null</td><td>2.872283</td><td>14.430878</td><td>28.801144</td></tr><tr><td>&quot;min&quot;</td><td>&quot;2013-01-01&quot;</td><td>1.0</td><td>1.0</td><td>0.0</td></tr><tr><td>&quot;25%&quot;</td><td>null</td><td>3.0</td><td>13.0</td><td>30.0</td></tr><tr><td>&quot;50%&quot;</td><td>null</td><td>6.0</td><td>26.0</td><td>47.0</td></tr><tr><td>&quot;75%&quot;</td><td>null</td><td>8.0</td><td>38.0</td><td>70.0</td></tr><tr><td>&quot;max&quot;</td><td>&quot;2017-12-31&quot;</td><td>10.0</td><td>50.0</td><td>231.0</td></tr></tbody></table></div>"
      ],
      "text/plain": [
       "shape: (9, 5)\n",
       "┌────────────┬────────────┬──────────┬───────────┬───────────┐\n",
       "│ statistic  ┆ date       ┆ store    ┆ item      ┆ sales     │\n",
       "│ ---        ┆ ---        ┆ ---      ┆ ---       ┆ ---       │\n",
       "│ str        ┆ str        ┆ f64      ┆ f64       ┆ f64       │\n",
       "╞════════════╪════════════╪══════════╪═══════════╪═══════════╡\n",
       "│ count      ┆ 913000     ┆ 913000.0 ┆ 913000.0  ┆ 913000.0  │\n",
       "│ null_count ┆ 0          ┆ 0.0      ┆ 0.0       ┆ 0.0       │\n",
       "│ mean       ┆ null       ┆ 5.5      ┆ 25.5      ┆ 52.250287 │\n",
       "│ std        ┆ null       ┆ 2.872283 ┆ 14.430878 ┆ 28.801144 │\n",
       "│ min        ┆ 2013-01-01 ┆ 1.0      ┆ 1.0       ┆ 0.0       │\n",
       "│ 25%        ┆ null       ┆ 3.0      ┆ 13.0      ┆ 30.0      │\n",
       "│ 50%        ┆ null       ┆ 6.0      ┆ 26.0      ┆ 47.0      │\n",
       "│ 75%        ┆ null       ┆ 8.0      ┆ 38.0      ┆ 70.0      │\n",
       "│ max        ┆ 2017-12-31 ┆ 10.0     ┆ 50.0      ┆ 231.0     │\n",
       "└────────────┴────────────┴──────────┴───────────┴───────────┘"
      ]
     },
     "execution_count": 3,
     "metadata": {},
     "output_type": "execute_result"
    }
   ],
   "source": [
    "raw_data.describe()"
   ]
  },
  {
   "cell_type": "markdown",
   "metadata": {},
   "source": [
    "## **Datas**"
   ]
  },
  {
   "cell_type": "code",
   "execution_count": 4,
   "metadata": {},
   "outputs": [
    {
     "name": "stdout",
     "output_type": "stream",
     "text": [
      "Todas as séries temporais possuem as mesmas datas.\n"
     ]
    }
   ],
   "source": [
    "gb_raw_data = raw_data.group_by([\"store\", \"item\"]).len().sort(by=\"len\")\n",
    "\n",
    "start = datetime.strptime(raw_data[\"date\"].min(), \"%Y-%m-%d\")\n",
    "end = datetime.strptime(raw_data[\"date\"].max(), \"%Y-%m-%d\")\n",
    "all_dates = pl.datetime_range(start=start, end=end, interval=\"1d\", eager=True).alias(\"date\")\n",
    "\n",
    "equal_dates = 0\n",
    "stores = raw_data[\"store\"].unique().to_list()\n",
    "items = raw_data[\"item\"].unique().to_list()\n",
    "for store in stores:\n",
    "    for item in items:\n",
    "        store_item_data = raw_data.filter(\n",
    "            (pl.col(\"store\") == store) & (pl.col(\"item\") == item)\n",
    "        )\n",
    "        if (all_dates == store_item_data[\"date\"].str.to_datetime().sort()).all():\n",
    "            equal_dates += 1\n",
    "\n",
    "if equal_dates == gb_raw_data.shape[0]:\n",
    "    print(\"Todas as séries temporais possuem as mesmas datas.\")\n",
    "else:\n",
    "    print(\"As séries temporais não possuem as mesmas datas.\")"
   ]
  },
  {
   "cell_type": "markdown",
   "metadata": {},
   "source": [
    "## **Demandas intermitentes**"
   ]
  },
  {
   "cell_type": "code",
   "execution_count": 5,
   "metadata": {},
   "outputs": [
    {
     "data": {
      "text/html": [
       "<div><style>\n",
       ".dataframe > thead > tr,\n",
       ".dataframe > tbody > tr {\n",
       "  text-align: right;\n",
       "  white-space: pre-wrap;\n",
       "}\n",
       "</style>\n",
       "<small>shape: (1, 4)</small><table border=\"1\" class=\"dataframe\"><thead><tr><th>date</th><th>store</th><th>item</th><th>sales</th></tr><tr><td>str</td><td>i64</td><td>i64</td><td>i64</td></tr></thead><tbody><tr><td>&quot;2014-01-15&quot;</td><td>6</td><td>4</td><td>0</td></tr></tbody></table></div>"
      ],
      "text/plain": [
       "shape: (1, 4)\n",
       "┌────────────┬───────┬──────┬───────┐\n",
       "│ date       ┆ store ┆ item ┆ sales │\n",
       "│ ---        ┆ ---   ┆ ---  ┆ ---   │\n",
       "│ str        ┆ i64   ┆ i64  ┆ i64   │\n",
       "╞════════════╪═══════╪══════╪═══════╡\n",
       "│ 2014-01-15 ┆ 6     ┆ 4    ┆ 0     │\n",
       "└────────────┴───────┴──────┴───────┘"
      ]
     },
     "execution_count": 5,
     "metadata": {},
     "output_type": "execute_result"
    }
   ],
   "source": [
    "raw_data.filter(pl.col(\"sales\") == 0)"
   ]
  },
  {
   "cell_type": "code",
   "execution_count": 6,
   "metadata": {},
   "outputs": [
    {
     "data": {
      "text/html": [
       "<div><style>\n",
       ".dataframe > thead > tr,\n",
       ".dataframe > tbody > tr {\n",
       "  text-align: right;\n",
       "  white-space: pre-wrap;\n",
       "}\n",
       "</style>\n",
       "<small>shape: (500, 5)</small><table border=\"1\" class=\"dataframe\"><thead><tr><th>store</th><th>item</th><th>sales_mean</th><th>sales_std</th><th>sales_std/mean</th></tr><tr><td>i64</td><td>i64</td><td>f64</td><td>f64</td><td>f64</td></tr></thead><tbody><tr><td>8</td><td>15</td><td>108.047645</td><td>28.265443</td><td>0.261602</td></tr><tr><td>3</td><td>28</td><td>100.143483</td><td>26.219792</td><td>0.261822</td></tr><tr><td>2</td><td>28</td><td>112.638007</td><td>29.526526</td><td>0.262136</td></tr><tr><td>2</td><td>38</td><td>103.249179</td><td>27.084663</td><td>0.262323</td></tr><tr><td>8</td><td>13</td><td>103.819825</td><td>27.257209</td><td>0.262543</td></tr><tr><td>&hellip;</td><td>&hellip;</td><td>&hellip;</td><td>&hellip;</td><td>&hellip;</td></tr><tr><td>6</td><td>41</td><td>16.607338</td><td>5.902563</td><td>0.355419</td></tr><tr><td>7</td><td>27</td><td>15.213582</td><td>5.478561</td><td>0.36011</td></tr><tr><td>5</td><td>5</td><td>14.086528</td><td>5.157271</td><td>0.366114</td></tr><tr><td>7</td><td>5</td><td>12.733844</td><td>4.73128</td><td>0.371552</td></tr><tr><td>6</td><td>5</td><td>13.893209</td><td>5.187877</td><td>0.373411</td></tr></tbody></table></div>"
      ],
      "text/plain": [
       "shape: (500, 5)\n",
       "┌───────┬──────┬────────────┬───────────┬────────────────┐\n",
       "│ store ┆ item ┆ sales_mean ┆ sales_std ┆ sales_std/mean │\n",
       "│ ---   ┆ ---  ┆ ---        ┆ ---       ┆ ---            │\n",
       "│ i64   ┆ i64  ┆ f64        ┆ f64       ┆ f64            │\n",
       "╞═══════╪══════╪════════════╪═══════════╪════════════════╡\n",
       "│ 8     ┆ 15   ┆ 108.047645 ┆ 28.265443 ┆ 0.261602       │\n",
       "│ 3     ┆ 28   ┆ 100.143483 ┆ 26.219792 ┆ 0.261822       │\n",
       "│ 2     ┆ 28   ┆ 112.638007 ┆ 29.526526 ┆ 0.262136       │\n",
       "│ 2     ┆ 38   ┆ 103.249179 ┆ 27.084663 ┆ 0.262323       │\n",
       "│ 8     ┆ 13   ┆ 103.819825 ┆ 27.257209 ┆ 0.262543       │\n",
       "│ …     ┆ …    ┆ …          ┆ …         ┆ …              │\n",
       "│ 6     ┆ 41   ┆ 16.607338  ┆ 5.902563  ┆ 0.355419       │\n",
       "│ 7     ┆ 27   ┆ 15.213582  ┆ 5.478561  ┆ 0.36011        │\n",
       "│ 5     ┆ 5    ┆ 14.086528  ┆ 5.157271  ┆ 0.366114       │\n",
       "│ 7     ┆ 5    ┆ 12.733844  ┆ 4.73128   ┆ 0.371552       │\n",
       "│ 6     ┆ 5    ┆ 13.893209  ┆ 5.187877  ┆ 0.373411       │\n",
       "└───────┴──────┴────────────┴───────────┴────────────────┘"
      ]
     },
     "execution_count": 6,
     "metadata": {},
     "output_type": "execute_result"
    }
   ],
   "source": [
    "grouped_data = raw_data.group_by([\"store\", \"item\"]).agg(\n",
    "    pl.col(\"sales\").mean().alias(\"sales_mean\"),\n",
    "    pl.col(\"sales\").std().alias(\"sales_std\"),\n",
    ")\n",
    "\n",
    "grouped_data = grouped_data.with_columns(\n",
    "    (pl.col(\"sales_std\") / pl.col(\"sales_mean\")).alias(\"sales_std/mean\")\n",
    ")\n",
    "\n",
    "grouped_data.sort(\"sales_std/mean\")"
   ]
  },
  {
   "cell_type": "markdown",
   "metadata": {},
   "source": [
    "# **Conclusões**"
   ]
  },
  {
   "cell_type": "markdown",
   "metadata": {},
   "source": [
    "- Nehuma série possui valores faltantes (NaN);\n",
    "- Nenhuma série possui demanda negativa ou algum valor absurdo que precise ser tratado; \n",
    "- Todas as séries possuem dados diários de \"01/01/2013\" até \"31/12/2017\", sem faltar nenhum dia;\n",
    "- De acordo com a quantidade de demandas igual a 0 e os valores mínimo e máximo do coeficiente de variação das demandas, não será necessário o uso de um modelo para demandas intermitentes."
   ]
  }
 ],
 "metadata": {
  "kernelspec": {
   "display_name": ".venv",
   "language": "python",
   "name": "python3"
  },
  "language_info": {
   "codemirror_mode": {
    "name": "ipython",
    "version": 3
   },
   "file_extension": ".py",
   "mimetype": "text/x-python",
   "name": "python",
   "nbconvert_exporter": "python",
   "pygments_lexer": "ipython3",
   "version": "3.10.11"
  }
 },
 "nbformat": 4,
 "nbformat_minor": 2
}
