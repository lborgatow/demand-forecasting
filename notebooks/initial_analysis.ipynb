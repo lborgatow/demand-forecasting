{
 "cells": [
  {
   "cell_type": "markdown",
   "metadata": {},
   "source": [
    "# **Importação das Bibliotecas**"
   ]
  },
  {
   "cell_type": "code",
   "execution_count": 1,
   "metadata": {},
   "outputs": [],
   "source": [
    "import polars as pl\n",
    "from datetime import datetime"
   ]
  },
  {
   "cell_type": "markdown",
   "metadata": {},
   "source": [
    "# **Leitura dos Dados**"
   ]
  },
  {
   "cell_type": "code",
   "execution_count": 2,
   "metadata": {},
   "outputs": [
    {
     "data": {
      "text/html": [
       "<div><style>\n",
       ".dataframe > thead > tr,\n",
       ".dataframe > tbody > tr {\n",
       "  text-align: right;\n",
       "  white-space: pre-wrap;\n",
       "}\n",
       "</style>\n",
       "<small>shape: (5, 4)</small><table border=\"1\" class=\"dataframe\"><thead><tr><th>date</th><th>store</th><th>item</th><th>sales</th></tr><tr><td>str</td><td>i64</td><td>i64</td><td>i64</td></tr></thead><tbody><tr><td>&quot;2013-01-01&quot;</td><td>1</td><td>1</td><td>13</td></tr><tr><td>&quot;2013-01-02&quot;</td><td>1</td><td>1</td><td>11</td></tr><tr><td>&quot;2013-01-03&quot;</td><td>1</td><td>1</td><td>14</td></tr><tr><td>&quot;2013-01-04&quot;</td><td>1</td><td>1</td><td>13</td></tr><tr><td>&quot;2013-01-05&quot;</td><td>1</td><td>1</td><td>10</td></tr></tbody></table></div>"
      ],
      "text/plain": [
       "shape: (5, 4)\n",
       "┌────────────┬───────┬──────┬───────┐\n",
       "│ date       ┆ store ┆ item ┆ sales │\n",
       "│ ---        ┆ ---   ┆ ---  ┆ ---   │\n",
       "│ str        ┆ i64   ┆ i64  ┆ i64   │\n",
       "╞════════════╪═══════╪══════╪═══════╡\n",
       "│ 2013-01-01 ┆ 1     ┆ 1    ┆ 13    │\n",
       "│ 2013-01-02 ┆ 1     ┆ 1    ┆ 11    │\n",
       "│ 2013-01-03 ┆ 1     ┆ 1    ┆ 14    │\n",
       "│ 2013-01-04 ┆ 1     ┆ 1    ┆ 13    │\n",
       "│ 2013-01-05 ┆ 1     ┆ 1    ┆ 10    │\n",
       "└────────────┴───────┴──────┴───────┘"
      ]
     },
     "execution_count": 2,
     "metadata": {},
     "output_type": "execute_result"
    }
   ],
   "source": [
    "raw_data = pl.read_csv(\"../data/01_raw/store_item_demand.csv\")\n",
    "raw_data.head()"
   ]
  },
  {
   "cell_type": "markdown",
   "metadata": {},
   "source": [
    "# **Análise Inicial**"
   ]
  },
  {
   "cell_type": "code",
   "execution_count": 3,
   "metadata": {},
   "outputs": [
    {
     "data": {
      "text/html": [
       "<div><style>\n",
       ".dataframe > thead > tr,\n",
       ".dataframe > tbody > tr {\n",
       "  text-align: right;\n",
       "  white-space: pre-wrap;\n",
       "}\n",
       "</style>\n",
       "<small>shape: (9, 5)</small><table border=\"1\" class=\"dataframe\"><thead><tr><th>statistic</th><th>date</th><th>store</th><th>item</th><th>sales</th></tr><tr><td>str</td><td>str</td><td>f64</td><td>f64</td><td>f64</td></tr></thead><tbody><tr><td>&quot;count&quot;</td><td>&quot;913000&quot;</td><td>913000.0</td><td>913000.0</td><td>913000.0</td></tr><tr><td>&quot;null_count&quot;</td><td>&quot;0&quot;</td><td>0.0</td><td>0.0</td><td>0.0</td></tr><tr><td>&quot;mean&quot;</td><td>null</td><td>5.5</td><td>25.5</td><td>52.250287</td></tr><tr><td>&quot;std&quot;</td><td>null</td><td>2.872283</td><td>14.430878</td><td>28.801144</td></tr><tr><td>&quot;min&quot;</td><td>&quot;2013-01-01&quot;</td><td>1.0</td><td>1.0</td><td>0.0</td></tr><tr><td>&quot;25%&quot;</td><td>null</td><td>3.0</td><td>13.0</td><td>30.0</td></tr><tr><td>&quot;50%&quot;</td><td>null</td><td>6.0</td><td>26.0</td><td>47.0</td></tr><tr><td>&quot;75%&quot;</td><td>null</td><td>8.0</td><td>38.0</td><td>70.0</td></tr><tr><td>&quot;max&quot;</td><td>&quot;2017-12-31&quot;</td><td>10.0</td><td>50.0</td><td>231.0</td></tr></tbody></table></div>"
      ],
      "text/plain": [
       "shape: (9, 5)\n",
       "┌────────────┬────────────┬──────────┬───────────┬───────────┐\n",
       "│ statistic  ┆ date       ┆ store    ┆ item      ┆ sales     │\n",
       "│ ---        ┆ ---        ┆ ---      ┆ ---       ┆ ---       │\n",
       "│ str        ┆ str        ┆ f64      ┆ f64       ┆ f64       │\n",
       "╞════════════╪════════════╪══════════╪═══════════╪═══════════╡\n",
       "│ count      ┆ 913000     ┆ 913000.0 ┆ 913000.0  ┆ 913000.0  │\n",
       "│ null_count ┆ 0          ┆ 0.0      ┆ 0.0       ┆ 0.0       │\n",
       "│ mean       ┆ null       ┆ 5.5      ┆ 25.5      ┆ 52.250287 │\n",
       "│ std        ┆ null       ┆ 2.872283 ┆ 14.430878 ┆ 28.801144 │\n",
       "│ min        ┆ 2013-01-01 ┆ 1.0      ┆ 1.0       ┆ 0.0       │\n",
       "│ 25%        ┆ null       ┆ 3.0      ┆ 13.0      ┆ 30.0      │\n",
       "│ 50%        ┆ null       ┆ 6.0      ┆ 26.0      ┆ 47.0      │\n",
       "│ 75%        ┆ null       ┆ 8.0      ┆ 38.0      ┆ 70.0      │\n",
       "│ max        ┆ 2017-12-31 ┆ 10.0     ┆ 50.0      ┆ 231.0     │\n",
       "└────────────┴────────────┴──────────┴───────────┴───────────┘"
      ]
     },
     "execution_count": 3,
     "metadata": {},
     "output_type": "execute_result"
    }
   ],
   "source": [
    "raw_data.describe()"
   ]
  },
  {
   "cell_type": "markdown",
   "metadata": {},
   "source": [
    "## **Datas**"
   ]
  },
  {
   "cell_type": "code",
   "execution_count": 4,
   "metadata": {},
   "outputs": [
    {
     "name": "stdout",
     "output_type": "stream",
     "text": [
      "Todas as séries temporais possuem as mesmas datas.\n"
     ]
    }
   ],
   "source": [
    "gb_raw_data = raw_data.group_by([\"store\", \"item\"]).len().sort(by=\"len\")\n",
    "\n",
    "start = datetime.strptime(raw_data[\"date\"].min(), \"%Y-%m-%d\")\n",
    "end = datetime.strptime(raw_data[\"date\"].max(), \"%Y-%m-%d\")\n",
    "all_dates = pl.datetime_range(start=start, end=end, interval=\"1d\", eager=True).alias(\"date\")\n",
    "\n",
    "equal_dates = 0\n",
    "stores = raw_data[\"store\"].unique().to_list()\n",
    "items = raw_data[\"item\"].unique().to_list()\n",
    "for store in stores:\n",
    "    for item in items:\n",
    "        store_item_data = raw_data.filter(\n",
    "            (pl.col(\"store\") == store) & (pl.col(\"item\") == item)\n",
    "        )\n",
    "        if (all_dates == store_item_data[\"date\"].str.to_datetime().sort()).all():\n",
    "            equal_dates += 1\n",
    "\n",
    "if equal_dates == gb_raw_data.shape[0]:\n",
    "    print(\"Todas as séries temporais possuem as mesmas datas.\")\n",
    "else:\n",
    "    print(\"As séries temporais não possuem as mesmas datas.\")"
   ]
  },
  {
   "cell_type": "markdown",
   "metadata": {},
   "source": [
    "## **Demandas zeradas**"
   ]
  },
  {
   "cell_type": "code",
   "execution_count": 5,
   "metadata": {},
   "outputs": [
    {
     "data": {
      "text/html": [
       "<div><style>\n",
       ".dataframe > thead > tr,\n",
       ".dataframe > tbody > tr {\n",
       "  text-align: right;\n",
       "  white-space: pre-wrap;\n",
       "}\n",
       "</style>\n",
       "<small>shape: (1, 4)</small><table border=\"1\" class=\"dataframe\"><thead><tr><th>date</th><th>store</th><th>item</th><th>sales</th></tr><tr><td>str</td><td>i64</td><td>i64</td><td>i64</td></tr></thead><tbody><tr><td>&quot;2014-01-15&quot;</td><td>6</td><td>4</td><td>0</td></tr></tbody></table></div>"
      ],
      "text/plain": [
       "shape: (1, 4)\n",
       "┌────────────┬───────┬──────┬───────┐\n",
       "│ date       ┆ store ┆ item ┆ sales │\n",
       "│ ---        ┆ ---   ┆ ---  ┆ ---   │\n",
       "│ str        ┆ i64   ┆ i64  ┆ i64   │\n",
       "╞════════════╪═══════╪══════╪═══════╡\n",
       "│ 2014-01-15 ┆ 6     ┆ 4    ┆ 0     │\n",
       "└────────────┴───────┴──────┴───────┘"
      ]
     },
     "execution_count": 5,
     "metadata": {},
     "output_type": "execute_result"
    }
   ],
   "source": [
    "raw_data.filter(pl.col(\"sales\") == 0)"
   ]
  },
  {
   "cell_type": "markdown",
   "metadata": {},
   "source": [
    "# **Conclusões**"
   ]
  },
  {
   "cell_type": "markdown",
   "metadata": {},
   "source": [
    "- Nehuma série possui valores faltantes (NaN);\n",
    "- Nenhuma série possui demanda negativa ou algum valor absurdo que precise ser tratado; \n",
    "- Todas as séries possuem dados diários de \"01/01/2013\" até \"31/12/2017\", sem faltar nenhum dia;\n",
    "- Só existe 1 registro com demanda (sales) igual a 0, portanto não será necessário utilizar um modelo de previsão de demanda intermitente."
   ]
  }
 ],
 "metadata": {
  "kernelspec": {
   "display_name": ".venv",
   "language": "python",
   "name": "python3"
  },
  "language_info": {
   "codemirror_mode": {
    "name": "ipython",
    "version": 3
   },
   "file_extension": ".py",
   "mimetype": "text/x-python",
   "name": "python",
   "nbconvert_exporter": "python",
   "pygments_lexer": "ipython3",
   "version": "3.10.11"
  }
 },
 "nbformat": 4,
 "nbformat_minor": 2
}
